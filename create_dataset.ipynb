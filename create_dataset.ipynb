{
 "cells": [
  {
   "cell_type": "code",
   "execution_count": null,
   "metadata": {},
   "outputs": [],
   "source": [
    "import os\n",
    "import re\n",
    "import time\n",
    "import requests\n",
    "import itertools\n",
    "import pandas as pd\n",
    "from bs4 import BeautifulSoup\n",
    "from tqdm.notebook import tqdm\n",
    "from sklearn.feature_extraction.text import CountVectorizer"
   ]
  },
  {
   "cell_type": "markdown",
   "metadata": {},
   "source": [
    "# Functions "
   ]
  },
  {
   "attachments": {},
   "cell_type": "markdown",
   "metadata": {},
   "source": [
    "Get rhymes from datamuse api"
   ]
  },
  {
   "cell_type": "code",
   "execution_count": null,
   "metadata": {},
   "outputs": [],
   "source": [
    "def get_rhymes(word):\n",
    "    \n",
    "    url = f\"https://api.datamuse.com/words?rel_rhy={word.lower()}\"\n",
    "    \n",
    "    response = requests.get(url)\n",
    "    \n",
    "    return response.json()"
   ]
  },
  {
   "attachments": {},
   "cell_type": "markdown",
   "metadata": {},
   "source": [
    "Iterate through the rhymes response to create 400000 rhyming pairs."
   ]
  },
  {
   "cell_type": "code",
   "execution_count": null,
   "metadata": {
    "scrolled": true
   },
   "outputs": [],
   "source": [
    "rhyme_data = []\n",
    "rhyme_id = 1\n",
    "rhyme_group_id = 1\n",
    "with open(\"en.dict\",\"r\") as dict_file:\n",
    "    while True:\n",
    "        file_contents=dict_file.readline().strip()\n",
    "        if file_contents==\"\":\n",
    "            break\n",
    "        rhyme_response = get_rhymes(file_contents)\n",
    "        if len(rhyme_response) > 0:            \n",
    "            rhyming_words = [rhyme['word'] for rhyme in rhyme_response] + [file_contents]\n",
    "            all_rhyme_combinations = list(itertools.combinations(rhyming_words, 2))\n",
    "            # create an entry for all possible rhyme pairs returned\n",
    "            for rhyme_pair in all_rhyme_combinations:\n",
    "                rhyme_data.append(\n",
    "                    {\n",
    "                            'rhyme_id': rhyme_id,\n",
    "                            'rhyme_group_id': rhyme_group_id,\n",
    "                            'word_a': rhyme_pair[0],\n",
    "                            'word_b': rhyme_pair[1],\n",
    "                            'rhyme': 1\n",
    "                    }\n",
    "                )\n",
    "                rhyme_id+=1\n",
    "            rhyme_group_id+=1        \n",
    "        if rhyme_group_id % 10 == 0 and rhyme_group_id != 0:\n",
    "            rhyme_df = pd.DataFrame(rhyme_data)\n",
    "            rhyme_df.to_pickle('data/rhymes/rhyme_df.pkl')\n",
    "        if len(rhyme_data)>400000:\n",
    "          break\n",
    "\n",
    "# convert to dataframe\n",
    "rhyme_df = pd.DataFrame(rhyme_data)\n",
    "rhyme_df = rhyme_df.drop_duplicates(subset=['word_a', 'word_b'], keep='first')\n",
    "rhyme_df.to_csv('data/rhymes/rhyme_df.csv', index=False)"
   ]
  },
  {
   "cell_type": "code",
   "execution_count": null,
   "metadata": {},
   "outputs": [],
   "source": [
    "rhyme_df=pd.read_pickle(\"data/rhymes/rhyme_df.pkl\")\n",
    "rhyme_df = pd.DataFrame(rhyme_data)\n",
    "rhyme_df = rhyme_df.drop_duplicates(subset=['word_a', 'word_b'], keep='first')\n",
    "rhyme_df.to_csv('data/rhymes/rhyme_df.csv', index=False)"
   ]
  },
  {
   "cell_type": "code",
   "execution_count": null,
   "metadata": {},
   "outputs": [],
   "source": [
    "rhyme_df = pd.read_csv('data/rhymes/rhyme_df.csv')\n",
    "rhyme_df.loc[rhyme_df['rhyme_group_id']==261].sample(5).reset_index(drop=True)"
   ]
  },
  {
   "attachments": {},
   "cell_type": "markdown",
   "metadata": {},
   "source": [
    "Repeat it for non-rhyming words, 400000 pairs. Picking a random word pair, there is a very little chance to create a rhyme there, however we think that the chance is so low, that it shouldn't matter"
   ]
  },
  {
   "cell_type": "code",
   "execution_count": null,
   "metadata": {},
   "outputs": [],
   "source": [
    "non_rhyme_df = rhyme_df.copy()\n",
    "for rhyme_group in list(rhyme_df['rhyme_group_id'].drop_duplicates()):\n",
    "    \n",
    "    words_in_group = len(rhyme_df.loc[rhyme_df['rhyme_group_id'] == rhyme_group])\n",
    "    \n",
    "    other_rhyme_samples = list(\n",
    "        non_rhyme_df.loc[non_rhyme_df['rhyme_group_id'] != rhyme_group, 'word_b'].sample(words_in_group)\n",
    "    )\n",
    "    \n",
    "    non_rhyme_df.loc[non_rhyme_df['rhyme_group_id'] == rhyme_group, 'word_b'] = other_rhyme_samples\n",
    "    \n",
    "non_rhyme_df['rhyme'] = 0\n",
    "non_rhyme_df = non_rhyme_df.drop_duplicates(subset=['word_a', 'word_b'], keep='first')\n",
    "non_rhyme_df.to_csv('data/rhymes/non_rhyme_df.csv', index=False)\n",
    "print('Done!')"
   ]
  }
 ],
 "metadata": {
  "kernelspec": {
   "display_name": "Python 3",
   "language": "python",
   "name": "python3"
  },
  "language_info": {
   "codemirror_mode": {
    "name": "ipython",
    "version": 3
   },
   "file_extension": ".py",
   "mimetype": "text/x-python",
   "name": "python",
   "nbconvert_exporter": "python",
   "pygments_lexer": "ipython3",
   "version": "3.10.9 (tags/v3.10.9:1dd9be6, Dec  6 2022, 20:01:21) [MSC v.1934 64 bit (AMD64)]"
  },
  "toc": {
   "base_numbering": 1,
   "nav_menu": {},
   "number_sections": true,
   "sideBar": true,
   "skip_h1_title": false,
   "title_cell": "Table of Contents",
   "title_sidebar": "Contents",
   "toc_cell": false,
   "toc_position": {},
   "toc_section_display": true,
   "toc_window_display": false
  },
  "vscode": {
   "interpreter": {
    "hash": "b4154a5e50f28955d572e0ac127fc80516f324e00a012c5e576aefb5da48c4f4"
   }
  }
 },
 "nbformat": 4,
 "nbformat_minor": 4
}
